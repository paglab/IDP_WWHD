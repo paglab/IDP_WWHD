{
 "cells": [
  {
   "cell_type": "markdown",
   "metadata": {},
   "source": [
    "### This notebook does not contain the main methodology we proposed.\n",
    "\n",
    "- This notebook is designed for an approach called subdomain approach\n",
    "- We aimed to split data to 4 different dataset (train data = 18 domains, splitting like 5-5-4-4)\n",
    "- After the splitting, we trained 4 different models with 4 different dataset we created in this notebook\n",
    "- This approach did not give us any competitive results\n",
    "- To run this notebook, you need to download the original dataset from: https://zenodo.org/records/5092309 "
   ]
  },
  {
   "cell_type": "code",
   "execution_count": 1,
   "metadata": {},
   "outputs": [],
   "source": [
    "import pandas as pd\n",
    "import matplotlib.pyplot as plt\n",
    "import os\n",
    "import seaborn as sns\n",
    "from PIL import Image, ImageDraw\n",
    "import os\n",
    "import shutil"
   ]
  },
  {
   "cell_type": "markdown",
   "metadata": {},
   "source": [
    "#### Receive Training Data (GWDH 2021)"
   ]
  },
  {
   "cell_type": "code",
   "execution_count": 2,
   "metadata": {},
   "outputs": [],
   "source": [
    "# Useful Paths\n",
    "root = r'data(2021)\\\\gwhd_2021\\\\'\n",
    "current_path = os.getcwd()\n",
    "image_path_relative = \"\\\\data(2021)\\\\gwhd_2021\\\\images\"\n",
    "\n",
    "# Loading training dataset\n",
    "data = pd.read_csv(root + 'competition_train.csv')\n",
    "# Creating column 'path' to store file path\n",
    "data['path'] = data.apply(lambda row : root + r'images\\\\' + row.image_name, axis = 1)"
   ]
  },
  {
   "cell_type": "code",
   "execution_count": 3,
   "metadata": {},
   "outputs": [
    {
     "data": {
      "text/html": [
       "<div>\n",
       "<style scoped>\n",
       "    .dataframe tbody tr th:only-of-type {\n",
       "        vertical-align: middle;\n",
       "    }\n",
       "\n",
       "    .dataframe tbody tr th {\n",
       "        vertical-align: top;\n",
       "    }\n",
       "\n",
       "    .dataframe thead th {\n",
       "        text-align: right;\n",
       "    }\n",
       "</style>\n",
       "<table border=\"1\" class=\"dataframe\">\n",
       "  <thead>\n",
       "    <tr style=\"text-align: right;\">\n",
       "      <th></th>\n",
       "      <th>image_name</th>\n",
       "      <th>BoxesString</th>\n",
       "      <th>domain</th>\n",
       "      <th>path</th>\n",
       "    </tr>\n",
       "  </thead>\n",
       "  <tbody>\n",
       "    <tr>\n",
       "      <th>0</th>\n",
       "      <td>4563856cc6d75c670eafd86d5eb7245fbe8f273c28f9e3...</td>\n",
       "      <td>99 692 160 764;641 27 697 115;935 978 1012 102...</td>\n",
       "      <td>Arvalis_1</td>\n",
       "      <td>data(2021)\\\\gwhd_2021\\\\images\\\\4563856cc6d75c6...</td>\n",
       "    </tr>\n",
       "    <tr>\n",
       "      <th>1</th>\n",
       "      <td>a2a15938845d9812de03bd44799c4b1bf856a8ad11752e...</td>\n",
       "      <td>230 143 321 222;928 929 1015 1004;485 557 604 ...</td>\n",
       "      <td>Arvalis_1</td>\n",
       "      <td>data(2021)\\\\gwhd_2021\\\\images\\\\a2a15938845d981...</td>\n",
       "    </tr>\n",
       "    <tr>\n",
       "      <th>2</th>\n",
       "      <td>401f89a2bb6ab63e3f406bd59b9cadccfe953230feb6cd...</td>\n",
       "      <td>440 239 544 288;333 538 429 594;913 171 963 20...</td>\n",
       "      <td>Arvalis_1</td>\n",
       "      <td>data(2021)\\\\gwhd_2021\\\\images\\\\401f89a2bb6ab63...</td>\n",
       "    </tr>\n",
       "    <tr>\n",
       "      <th>3</th>\n",
       "      <td>0a3937653483c36dfb4d957b6f82ae96dbdc7ba36cc3d8...</td>\n",
       "      <td>112 274 188 303;892 812 958 847;0 889 67 928;1...</td>\n",
       "      <td>Arvalis_1</td>\n",
       "      <td>data(2021)\\\\gwhd_2021\\\\images\\\\0a3937653483c36...</td>\n",
       "    </tr>\n",
       "    <tr>\n",
       "      <th>4</th>\n",
       "      <td>be1652110a44acd24b42784356e965ce84a04893c3f1bb...</td>\n",
       "      <td>810 204 863 314;360 231 425 408;452 348 510 47...</td>\n",
       "      <td>Arvalis_1</td>\n",
       "      <td>data(2021)\\\\gwhd_2021\\\\images\\\\be1652110a44acd...</td>\n",
       "    </tr>\n",
       "  </tbody>\n",
       "</table>\n",
       "</div>"
      ],
      "text/plain": [
       "                                          image_name  \\\n",
       "0  4563856cc6d75c670eafd86d5eb7245fbe8f273c28f9e3...   \n",
       "1  a2a15938845d9812de03bd44799c4b1bf856a8ad11752e...   \n",
       "2  401f89a2bb6ab63e3f406bd59b9cadccfe953230feb6cd...   \n",
       "3  0a3937653483c36dfb4d957b6f82ae96dbdc7ba36cc3d8...   \n",
       "4  be1652110a44acd24b42784356e965ce84a04893c3f1bb...   \n",
       "\n",
       "                                         BoxesString     domain  \\\n",
       "0  99 692 160 764;641 27 697 115;935 978 1012 102...  Arvalis_1   \n",
       "1  230 143 321 222;928 929 1015 1004;485 557 604 ...  Arvalis_1   \n",
       "2  440 239 544 288;333 538 429 594;913 171 963 20...  Arvalis_1   \n",
       "3  112 274 188 303;892 812 958 847;0 889 67 928;1...  Arvalis_1   \n",
       "4  810 204 863 314;360 231 425 408;452 348 510 47...  Arvalis_1   \n",
       "\n",
       "                                                path  \n",
       "0  data(2021)\\\\gwhd_2021\\\\images\\\\4563856cc6d75c6...  \n",
       "1  data(2021)\\\\gwhd_2021\\\\images\\\\a2a15938845d981...  \n",
       "2  data(2021)\\\\gwhd_2021\\\\images\\\\401f89a2bb6ab63...  \n",
       "3  data(2021)\\\\gwhd_2021\\\\images\\\\0a3937653483c36...  \n",
       "4  data(2021)\\\\gwhd_2021\\\\images\\\\be1652110a44acd...  "
      ]
     },
     "execution_count": 3,
     "metadata": {},
     "output_type": "execute_result"
    }
   ],
   "source": [
    "data.head()"
   ]
  },
  {
   "cell_type": "code",
   "execution_count": 4,
   "metadata": {},
   "outputs": [
    {
     "data": {
      "text/plain": [
       "array(['Arvalis_1', 'Arvalis_2', 'Arvalis_3', 'Arvalis_4', 'Arvalis_5',\n",
       "       'Arvalis_6', 'Arvalis_7', 'Arvalis_8', 'Arvalis_9', 'Arvalis_10',\n",
       "       'Arvalis_11', 'Arvalis_12', 'ETHZ_1', 'Inrae_1', 'NMBU_1',\n",
       "       'NMBU_2', 'Rres_1', 'ULiège-GxABT_1'], dtype=object)"
      ]
     },
     "execution_count": 4,
     "metadata": {},
     "output_type": "execute_result"
    }
   ],
   "source": [
    "data.domain.unique()"
   ]
  },
  {
   "cell_type": "code",
   "execution_count": 5,
   "metadata": {},
   "outputs": [
    {
     "name": "stdout",
     "output_type": "stream",
     "text": [
      "Number of Domains:  18\n"
     ]
    },
    {
     "data": {
      "image/png": "[encoded data removed]",
      "text/plain": [
       "<Figure size 500x500 with 1 Axes>"
      ]
     },
     "metadata": {},
     "output_type": "display_data"
    }
   ],
   "source": [
    "print(\"Number of Domains: \", len(data[\"domain\"].unique()))\n",
    "sns.displot(data[\"domain\"], kde=False)\n",
    "plt.xlabel('Wheat Domains')\n",
    "plt.ylabel('Number of images')\n",
    "plt.xticks(rotation=60)\n",
    "plt.title('Training Data: Wheat Domain Distribution')\n",
    "plt.show()"
   ]
  },
  {
   "cell_type": "markdown",
   "metadata": {},
   "source": [
    "##### Manuel Balanced Data Distribution\n",
    "\n",
    "**First Batch**: [Arvalis 7, Arvalis 8, Arvalis 11, ULiege_1] \\\n",
    "**Second Batch**: [Arvalis 1, Arvalis 9, Arvalis 10, Arvalis 12] \\\n",
    "**Third Batch**: [Arvalis 4, Arvalis 6, Inrae_1, NMBU_1, NMBU_2] \\\n",
    "**Fourth Batch**: [Arvalis 2, Arvalis 3, Arvalis 5, ETHZ_1, Rres_1]"
   ]
  },
  {
   "cell_type": "code",
   "execution_count": 6,
   "metadata": {},
   "outputs": [],
   "source": [
    "first_batch = [\"Arvalis_7\", \"Arvalis_8\", \"Arvalis_11\", \"ULiège-GxABT_1\"]\n",
    "second_batch = [\"Arvalis_1\",\"Arvalis_9\", \"Arvalis_10\", \"Arvalis_12\"]\n",
    "third_batch = [\"Arvalis_4\", \"Arvalis_6\", \"Inrae_1\", \"NMBU_1\", \"NMBU_2\"]\n",
    "fourth_batch = [\"Arvalis_2\", \"Arvalis_3\", \"Arvalis_5\", \"ETHZ_1\", \"Rres_1\"]"
   ]
  },
  {
   "cell_type": "code",
   "execution_count": 8,
   "metadata": {},
   "outputs": [],
   "source": [
    "def distribute_training_samples2batch(batches, batch_number):\n",
    "    src_dir = \"data(2021)\\\\gwhd_2021\\\\train\"\n",
    "    dst_dir = f\"data(2021)\\\\gwhd_2021\\\\sub_batches\\\\sub_domain_train_{batch_number}\"\n",
    "\n",
    "    if not os.path.isdir(dst_dir):\n",
    "        os.makedirs(dst_dir, exist_ok = True)\n",
    "        os.makedirs(dst_dir+\"\\\\images\", exist_ok = True)\n",
    "        os.makedirs(dst_dir+\"\\\\labels\", exist_ok = True)\n",
    "\n",
    "    for domain_type in batches:\n",
    "        image_names = list(data[data[\"domain\"] == domain_type][\"image_name\"])\n",
    "        for image_name in image_names:\n",
    "            label_name = image_name.split(\".\")[0] + \".txt\"\n",
    "            src_img_dir = src_dir + \"\\\\images\\\\\" + image_name\n",
    "            dst_img_dir = dst_dir + \"\\\\images\\\\\" + image_name\n",
    "            src_label_dir = src_dir + \"\\\\labels\\\\\" + label_name\n",
    "            dst_label_dir = dst_dir + \"\\\\labels\\\\\" + label_name\n",
    "\n",
    "            try:\n",
    "                shutil.copy(src_img_dir, dst_img_dir)\n",
    "                shutil.copy(src_label_dir, dst_label_dir)\n",
    "                #print(\"File copied successfully.\")\n",
    " \n",
    "            # If source and destination are same\n",
    "            except shutil.SameFileError:\n",
    "                print(\"Source and destination represents the same file.\")\n",
    "            \n",
    "            # If there is any permission issue\n",
    "            except PermissionError:\n",
    "                print(\"Permission denied.\")\n",
    "            \n",
    "            # For other errors\n",
    "            except:\n",
    "                print(\"Error occurred while copying file.\")\n"
   ]
  },
  {
   "cell_type": "code",
   "execution_count": 9,
   "metadata": {},
   "outputs": [
    {
     "name": "stdout",
     "output_type": "stream",
     "text": [
      "Error occurred while copying file.\n",
      "Error occurred while copying file.\n",
      "Error occurred while copying file.\n",
      "Error occurred while copying file.\n",
      "Error occurred while copying file.\n",
      "Error occurred while copying file.\n",
      "Error occurred while copying file.\n",
      "Error occurred while copying file.\n",
      "Error occurred while copying file.\n",
      "Error occurred while copying file.\n",
      "Error occurred while copying file.\n",
      "Error occurred while copying file.\n",
      "Error occurred while copying file.\n",
      "Error occurred while copying file.\n",
      "Error occurred while copying file.\n",
      "Error occurred while copying file.\n",
      "Error occurred while copying file.\n",
      "Error occurred while copying file.\n",
      "Error occurred while copying file.\n",
      "Error occurred while copying file.\n",
      "Error occurred while copying file.\n",
      "Error occurred while copying file.\n",
      "Error occurred while copying file.\n",
      "Error occurred while copying file.\n",
      "Error occurred while copying file.\n",
      "Error occurred while copying file.\n",
      "Error occurred while copying file.\n",
      "Error occurred while copying file.\n",
      "Error occurred while copying file.\n",
      "Error occurred while copying file.\n",
      "Error occurred while copying file.\n",
      "Error occurred while copying file.\n",
      "Error occurred while copying file.\n",
      "Error occurred while copying file.\n",
      "Error occurred while copying file.\n",
      "Error occurred while copying file.\n",
      "Error occurred while copying file.\n",
      "Error occurred while copying file.\n",
      "Error occurred while copying file.\n",
      "Error occurred while copying file.\n",
      "Error occurred while copying file.\n",
      "Error occurred while copying file.\n",
      "Error occurred while copying file.\n",
      "Error occurred while copying file.\n",
      "Error occurred while copying file.\n",
      "Error occurred while copying file.\n",
      "Error occurred while copying file.\n",
      "Error occurred while copying file.\n",
      "Error occurred while copying file.\n",
      "Error occurred while copying file.\n"
     ]
    }
   ],
   "source": [
    "distribute_training_samples2batch(first_batch, batch_number=0)\n",
    "distribute_training_samples2batch(second_batch, batch_number=1)\n",
    "distribute_training_samples2batch(third_batch, batch_number=2)\n",
    "distribute_training_samples2batch(fourth_batch, batch_number=3)"
   ]
  },
  {
   "cell_type": "markdown",
   "metadata": {},
   "source": [
    "### 50 Errors occured because 50 images does not have any label! It is normal situation."
   ]
  },
  {
   "cell_type": "code",
   "execution_count": null,
   "metadata": {},
   "outputs": [],
   "source": []
  }
 ],
 "metadata": {
  "kernelspec": {
   "display_name": "app_proj",
   "language": "python",
   "name": "python3"
  },
  "language_info": {
   "codemirror_mode": {
    "name": "ipython",
    "version": 3
   },
   "file_extension": ".py",
   "mimetype": "text/x-python",
   "name": "python",
   "nbconvert_exporter": "python",
   "pygments_lexer": "ipython3",
   "version": "3.10.14"
  }
 },
 "nbformat": 4,
 "nbformat_minor": 2
}
